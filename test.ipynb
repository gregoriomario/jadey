{
 "cells": [
  {
   "cell_type": "code",
   "execution_count": 3,
   "metadata": {},
   "outputs": [
    {
     "name": "stdout",
     "output_type": "stream",
     "text": [
      "128\n",
      "64\n",
      "16\n"
     ]
    }
   ],
   "source": [
    "from PIL import Image\n",
    "\n",
    "name = 'kinta'\n",
    "# Open the image\n",
    "image = Image.open(f\"./{name}.png\")\n",
    "\n",
    "# Set the pixelation level\n",
    "pixelation_levels = [8, 16, 64]\n",
    "\n",
    "for level in pixelation_levels:\n",
    " new_size = image.width // level;\n",
    "\n",
    " # Resize to smaller size\n",
    " small = image.resize((image.width // level, image.height // level), resample=Image.NEAREST)\n",
    "\n",
    " # Scale it back up to original size\n",
    " pixelated = small.resize((new_size, new_size), Image.NEAREST)\n",
    " print(image.width//level)\n",
    " \n",
    " # Save the pixelated image\n",
    " pixelated.save(f\"./{name}_{new_size}.png\")"
   ]
  },
  {
   "cell_type": "code",
   "execution_count": null,
   "metadata": {},
   "outputs": [],
   "source": []
  }
 ],
 "metadata": {
  "kernelspec": {
   "display_name": "Python 3",
   "language": "python",
   "name": "python3"
  },
  "language_info": {
   "codemirror_mode": {
    "name": "ipython",
    "version": 3
   },
   "file_extension": ".py",
   "mimetype": "text/x-python",
   "name": "python",
   "nbconvert_exporter": "python",
   "pygments_lexer": "ipython3",
   "version": "3.9.6"
  }
 },
 "nbformat": 4,
 "nbformat_minor": 2
}
